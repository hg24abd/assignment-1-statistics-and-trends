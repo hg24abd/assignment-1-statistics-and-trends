{
 "cells": [
  {
   "cell_type": "code",
   "execution_count": null,
   "id": "e102e52a",
   "metadata": {},
   "outputs": [],
   "source": [
    "import pandas as pd\n",
    "import seaborn as sns\n",
    "import matplotlib.pyplot as plt\n",
    "\n",
    "# Load the dataset\n",
    "filename = 'train.ft.txt'  # Make sure this file is downloaded and available in the working directory\n",
    "data = pd.read_csv(filename, sep='\\t', header=None, names=['review'])\n",
    "\n",
    "# Extract labels and clean reviews\n",
    "data['label'] = data['review'].str.extract(r'(__label__\\d)').astype(str)\n",
    "data['label'] = data['label'].str[-1].astype(int)  # Convert label to integer\n",
    "data['review'] = data['review'].str.replace(r'__label__\\d ', '', regex=True)  # Remove label text from review\n",
    "\n",
    "# Map the labels to Positive/Negative\n",
    "data['label'] = data['label'].map({1: 'Negative', 2: 'Positive'})"
   ]
  },
  {
   "cell_type": "code",
   "execution_count": null,
   "id": "220e7dd7",
   "metadata": {},
   "outputs": [],
   "source": [
    "# Exploratory Data Analysis (EDA)\n",
    "\n",
    "# Plot 1: Histogram of Review Lengths\n",
    "\n",
    "# Calculate review lengths\n",
    "data['review_length'] = data['review'].apply(len)\n",
    "\n",
    "# Plot histogram for review lengths\n",
    "plt.figure(figsize=(10, 5))\n",
    "sns.histplot(data['review_length'], bins=50, kde=True)\n",
    "plt.title('Distribution of Review Lengths')\n",
    "plt.xlabel('Review Length')\n",
    "plt.ylabel('Frequency')\n",
    "plt.show()"
   ]
  },
  {
   "cell_type": "code",
   "execution_count": null,
   "id": "ed4b964d",
   "metadata": {},
   "outputs": [],
   "source": [
    "# Plot 2 - Bar Chart for Label Distribution\n",
    "\n",
    "# Plot count of each label\n",
    "plt.figure(figsize=(8, 5))\n",
    "sns.countplot(x='label', data=data)\n",
    "plt.title('Distribution of Positive and Negative Reviews')\n",
    "plt.xlabel('Review Sentiment')\n",
    "plt.ylabel('Count')\n",
    "plt.show()"
   ]
  },
  {
   "cell_type": "code",
   "execution_count": null,
   "id": "91e43fc0",
   "metadata": {},
   "outputs": [],
   "source": [
    "# Plot 3 - Heatmap of Correlation Between Review Length and Sentiment\n",
    "\n",
    "# Encode labels as binary\n",
    "data['label_binary'] = data['label'].apply(lambda x: 1 if x == 'Positive' else 0)\n",
    "\n",
    "# Calculate correlation matrix\n",
    "correlation_matrix = data[['review_length', 'label_binary']].corr()\n",
    "\n",
    "# Plot heatmap of the correlation\n",
    "plt.figure(figsize=(6, 4))\n",
    "sns.heatmap(correlation_matrix, annot=True, cmap='coolwarm', cbar=True)\n",
    "plt.title('Correlation Heatmap')\n",
    "plt.show()"
   ]
  },
  {
   "cell_type": "code",
   "execution_count": null,
   "id": "baf4fc28",
   "metadata": {},
   "outputs": [],
   "source": [
    "# Descriptive Statistics\n",
    "\n",
    "# Summary statistics for review lengths\n",
    "data['review_length'].describe()\n",
    "\n",
    "# Correlation matrix\n",
    "data[['review_length', 'label_binary']].corr()"
   ]
  }
 ],
 "metadata": {
  "kernelspec": {
   "display_name": "Python 3 (ipykernel)",
   "language": "python",
   "name": "python3"
  },
  "language_info": {
   "codemirror_mode": {
    "name": "ipython",
    "version": 3
   },
   "file_extension": ".py",
   "mimetype": "text/x-python",
   "name": "python",
   "nbconvert_exporter": "python",
   "pygments_lexer": "ipython3",
   "version": "3.9.13"
  }
 },
 "nbformat": 4,
 "nbformat_minor": 5
}

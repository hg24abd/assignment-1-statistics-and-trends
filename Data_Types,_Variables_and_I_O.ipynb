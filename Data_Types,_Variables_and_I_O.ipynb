{
  "nbformat": 4,
  "nbformat_minor": 0,
  "metadata": {
    "colab": {
      "provenance": [],
      "include_colab_link": true
    },
    "kernelspec": {
      "name": "python3",
      "display_name": "Python 3"
    },
    "language_info": {
      "name": "python"
    }
  },
  "cells": [
    {
      "cell_type": "markdown",
      "metadata": {
        "id": "view-in-github",
        "colab_type": "text"
      },
      "source": [
        "<a href=\"https://colab.research.google.com/github/hg24abd/assignment-1-statistics-and-trends/blob/main/Data_Types%2C_Variables_and_I_O.ipynb\" target=\"_parent\"><img src=\"https://colab.research.google.com/assets/colab-badge.svg\" alt=\"Open In Colab\"/></a>"
      ]
    },
    {
      "cell_type": "markdown",
      "source": [
        "06/12/2024\n",
        "Practice1: Data Types, Variables, and I/O"
      ],
      "metadata": {
        "id": "skgzTSOndsWn"
      }
    },
    {
      "cell_type": "markdown",
      "source": [
        "Predict the output of the following.\n",
        "print(8-5)\n",
        "Click on an option to submit your answer\n",
        "A\n",
        "8-5\n",
        "B\n",
        "3\n",
        "**C**\n",
        "Error"
      ],
      "metadata": {
        "id": "_Xbb8j6md6GL"
      }
    },
    {
      "cell_type": "code",
      "source": [
        "'''Predict the output of the following.\n",
        "print(8-5)\n",
        "Click on an option to submit your answer\n",
        "A\n",
        "8-5\n",
        "B\n",
        "3\n",
        "C\n",
        "Error '''\n",
        "\n",
        "print(8-5)"
      ],
      "metadata": {
        "colab": {
          "base_uri": "https://localhost:8080/"
        },
        "id": "XVoINbT1d0b3",
        "outputId": "0971bc5d-e17a-4afe-a221-d76980509e30"
      },
      "execution_count": 2,
      "outputs": [
        {
          "output_type": "stream",
          "name": "stdout",
          "text": [
            "3\n"
          ]
        }
      ]
    },
    {
      "cell_type": "code",
      "source": [
        "'''\n",
        "Quiz 2\n",
        "Which of the following values are of type float in Python?\n",
        "Click on an option to submit your answer\n",
        "A\n",
        ".2\n",
        "B\n",
        "\"2.3\"\n",
        "C\n",
        "'3.14'\n",
        "D\n",
        "-3\n",
        "'''"
      ],
      "metadata": {
        "colab": {
          "base_uri": "https://localhost:8080/",
          "height": 52
        },
        "id": "nBK08hfIfRrS",
        "outputId": "d2d0d676-cb27-4537-95f5-28f6353dcb3b"
      },
      "execution_count": 3,
      "outputs": [
        {
          "output_type": "execute_result",
          "data": {
            "text/plain": [
              "'\\nQuiz 2\\nWhich of the following values are of type float in Python?\\nClick on an option to submit your answer\\nA\\n.2\\nB\\n\"2.3\"\\nC\\n\\'3.14\\'\\nD\\n-3\\n'"
            ],
            "application/vnd.google.colaboratory.intrinsic+json": {
              "type": "string"
            }
          },
          "metadata": {},
          "execution_count": 3
        }
      ]
    },
    {
      "cell_type": "code",
      "source": [
        "'''\n",
        "Quiz 3\n",
        "Which of the following is a valid variable name?\n",
        "Click on an option to submit your answer\n",
        "A\n",
        "hELLO\n",
        "B\n",
        "1_name_Input\n",
        "C\n",
        "a*b*c\n",
        "D\n",
        "Cod3$#\n",
        "'''"
      ],
      "metadata": {
        "colab": {
          "base_uri": "https://localhost:8080/",
          "height": 52
        },
        "id": "jZ_kl2gHfZhv",
        "outputId": "a75f2f67-a9fb-4187-d148-7dfd5515e397"
      },
      "execution_count": 4,
      "outputs": [
        {
          "output_type": "execute_result",
          "data": {
            "text/plain": [
              "'\\nQuiz 3\\nWhich of the following is a valid variable name?\\nClick on an option to submit your answer\\nA\\nhELLO\\nB\\n1_name_Input\\nC\\na*b*c\\nD\\nCod3$#\\n'"
            ],
            "application/vnd.google.colaboratory.intrinsic+json": {
              "type": "string"
            }
          },
          "metadata": {},
          "execution_count": 4
        }
      ]
    },
    {
      "cell_type": "code",
      "source": [
        "'''\n",
        "Quiz 4\n",
        "Predict the output of the following.\n",
        "x = 3\n",
        "y = 'hello'\n",
        "num = y\n",
        "y = 5\n",
        "print(num, y)\n",
        "Click on an option to submit your answer\n",
        "A\n",
        "5 5\n",
        "B\n",
        "hello hello\n",
        "C\n",
        "hello 5\n",
        "'''"
      ],
      "metadata": {
        "colab": {
          "base_uri": "https://localhost:8080/",
          "height": 52
        },
        "id": "CB4wt2njfhTB",
        "outputId": "65972976-f87a-466e-a209-64e7aae576ab"
      },
      "execution_count": 5,
      "outputs": [
        {
          "output_type": "execute_result",
          "data": {
            "text/plain": [
              "\"\\nQuiz 4\\nPredict the output of the following.\\nx = 3\\ny = 'hello'\\nnum = y\\ny = 5\\nprint(num, y)\\nClick on an option to submit your answer\\nA\\n5 5\\nB\\nhello hello\\nC\\nhello 5\\n\""
            ],
            "application/vnd.google.colaboratory.intrinsic+json": {
              "type": "string"
            }
          },
          "metadata": {},
          "execution_count": 5
        }
      ]
    },
    {
      "cell_type": "code",
      "source": [],
      "metadata": {
        "id": "_n1_mAuqfpvu"
      },
      "execution_count": null,
      "outputs": []
    }
  ]
}